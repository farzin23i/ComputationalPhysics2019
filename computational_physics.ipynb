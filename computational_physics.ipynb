{
 "cells": [
  {
   "cell_type": "code",
   "execution_count": 1,
   "metadata": {},
   "outputs": [],
   "source": [
    "import numpy as np\n",
    "import matplotlib.pyplot as plt\n",
    "import matplotlib.animation as animation\n",
    "import time"
   ]
  },
  {
   "cell_type": "markdown",
   "metadata": {},
   "source": [
    "__1.__ _Dot product:_ Write a short program (using 1D arrays and single loop) to calculate the product $a \\cdot b$ where $a$ and $b$ are vectors of the same length $n$. "
   ]
  },
  {
   "cell_type": "code",
   "execution_count": 2,
   "metadata": {},
   "outputs": [
    {
     "name": "stdout",
     "output_type": "stream",
     "text": [
      "vector a = [0.78252137 0.66735699 0.28297581]\n",
      "vector b = [0.29150336 0.98852204 0.92178418]\n",
      "dot product = 1.14864733038475\n"
     ]
    }
   ],
   "source": [
    "n = 3\n",
    "a = np.random.random(n)\n",
    "b = np.random.random(n)\n",
    "dot_prod = 0\n",
    "for i in range(n):\n",
    "    dot_prod += a[i] * b[i]    \n",
    "print(\"vector a =\", a)\n",
    "print(\"vector b =\", b)\n",
    "print(\"dot product =\", dot_prod)"
   ]
  },
  {
   "cell_type": "markdown",
   "metadata": {},
   "source": [
    "__2.__ _Cross product:_ Write a short program (using 1D arrays and two nested loops) to calculate the product $a \\times b$ where $a$ and $b$ are vectors of the same length $n$. "
   ]
  },
  {
   "cell_type": "code",
   "execution_count": 3,
   "metadata": {},
   "outputs": [
    {
     "name": "stdout",
     "output_type": "stream",
     "text": [
      "vector a = [0.47317946 0.12288236 0.72379039]\n",
      "vector b = [0.58931056 0.84256906 0.532401  ]\n",
      "cross product = [-0.54442069  0.1746161   0.32627049]\n"
     ]
    }
   ],
   "source": [
    "n = 3\n",
    "a = np.random.random(n)\n",
    "b = np.random.random(n)\n",
    "cross_prod = np.zeros(n)\n",
    "for i in range(n):\n",
    "    cross_prod[i] += a[(i+1)%n] * b[(i+2)%n] - a[(i+2)%n] * b[(i+1)%n]\n",
    "print(\"vector a =\", a)\n",
    "print(\"vector b =\", b)\n",
    "print(\"cross product =\", cross_prod)"
   ]
  },
  {
   "cell_type": "markdown",
   "metadata": {},
   "source": [
    "__3.__ Matrix-matrix multiplication:_ Write a simple code to calculate explicitly $A \\times A$, where $A$ is an $n \\times n$ matrix. "
   ]
  },
  {
   "cell_type": "code",
   "execution_count": 4,
   "metadata": {},
   "outputs": [
    {
     "name": "stdout",
     "output_type": "stream",
     "text": [
      "matrix A = [[0.50537955 0.3903381 ]\n",
      " [0.25470733 0.33793325]]\n",
      "A x A =  [[0.35483047 0.32917712]\n",
      " [0.21479795 0.21362086]]\n"
     ]
    }
   ],
   "source": [
    "n = 2\n",
    "A = np.random.random((n, n))\n",
    "AxA = np.zeros((n, n))\n",
    "for i in range(n):\n",
    "    for j in range(n):\n",
    "        for k in range(n):\n",
    "            AxA[i][j] += A[i][k] * A[k][j]\n",
    "print(\"matrix A =\", A)\n",
    "print(\"A x A = \", AxA)"
   ]
  },
  {
   "cell_type": "markdown",
   "metadata": {},
   "source": [
    "__4.__ Plot CPU-time versus $n$, and determine the complexity of your implementation for the previous exercise. \n"
   ]
  },
  {
   "cell_type": "code",
   "execution_count": 5,
   "metadata": {},
   "outputs": [],
   "source": [
    "cpu_time = []\n",
    "matrix_size = np.arange(2, 100)\n",
    "for n in matrix_size:\n",
    "    start = time.time()\n",
    "    A = np.random.random((n, n))\n",
    "    A2 = np.zeros((n, n))\n",
    "    for i in range(n):\n",
    "        for j in range(n):\n",
    "            for k in range(n):\n",
    "                A2[i][j] += A[i][k] * A[k][j]\n",
    "    stop = time.time()\n",
    "    cpu_time.append(stop - start)"
   ]
  },
  {
   "cell_type": "code",
   "execution_count": 6,
   "metadata": {},
   "outputs": [
    {
     "data": {
      "image/png": "[encoded data removed]",
      "text/plain": [
       "<Figure size 432x288 with 1 Axes>"
      ]
     },
     "metadata": {
      "needs_background": "light"
     },
     "output_type": "display_data"
    }
   ],
   "source": [
    "plt.xlabel(\"Size of matrix\")\n",
    "plt.ylabel(\"Runtime (s)\")\n",
    "plt.loglog(matrix_size, cpu_time, '.')\n",
    "plt.loglog(matrix_size, 10**-6 * (matrix_size**3));"
   ]
  },
  {
   "cell_type": "markdown",
   "metadata": {},
   "source": [
    "- complexity of matrix multiplication is $O(n^3)$ "
   ]
  },
  {
   "cell_type": "markdown",
   "metadata": {},
   "source": [
    "__5.__ What is meant by sub-linear scaling? Give some examples. "
   ]
  },
  {
   "cell_type": "code",
   "execution_count": null,
   "metadata": {},
   "outputs": [],
   "source": []
  },
  {
   "cell_type": "markdown",
   "metadata": {},
   "source": [
    "__6.__ _Sort:_ Implement either merge or bubble sort algorithm to sort an array of random real values. Plot the CPU-time versus the array length $n$, and determine the complexity of your implementation. Is it $O(n\\log(n))$? "
   ]
  },
  {
   "cell_type": "code",
   "execution_count": 7,
   "metadata": {},
   "outputs": [],
   "source": [
    "def merge_sort(list):\n",
    "    if len(list) <= 1:\n",
    "        return list\n",
    "    left = []\n",
    "    right = []\n",
    "    for i in range(len(list)):\n",
    "        if i < len(list) / 2:\n",
    "            left.append(list[i])\n",
    "        else:\n",
    "            right.append(list[i])\n",
    "    left = merge_sort(left)\n",
    "    right = merge_sort(right)\n",
    "    return merge(left, right)"
   ]
  },
  {
   "cell_type": "code",
   "execution_count": 8,
   "metadata": {},
   "outputs": [],
   "source": [
    "def merge(left, right):\n",
    "    result = []\n",
    "    while left != [] and right != []:\n",
    "        if left[0] >= right[0]:\n",
    "            result.append(left[0])\n",
    "            left = left[1:]\n",
    "        else:\n",
    "            result.append(right[0])\n",
    "            right = right[1:]\n",
    "    while left != []:\n",
    "        result.append(left[0])\n",
    "        left = left[1:]\n",
    "    while right != []:\n",
    "        result.append(right[0])\n",
    "        right = right[1:]\n",
    "    return result"
   ]
  },
  {
   "cell_type": "code",
   "execution_count": 9,
   "metadata": {},
   "outputs": [],
   "source": [
    "cpu_time = []\n",
    "array_size = np.arange(1, 1000)\n",
    "for n in array_size:\n",
    "    array = np.random.random(n)\n",
    "    start = time.time()\n",
    "    merge_sort(array)\n",
    "    stop = time.time()\n",
    "    cpu_time.append(stop - start)"
   ]
  },
  {
   "cell_type": "code",
   "execution_count": 10,
   "metadata": {},
   "outputs": [
    {
     "data": {
      "image/png": "[encoded data removed]",
      "text/plain": [
       "<Figure size 432x288 with 1 Axes>"
      ]
     },
     "metadata": {
      "needs_background": "light"
     },
     "output_type": "display_data"
    }
   ],
   "source": [
    "plt.xlabel(\"Size of array\")\n",
    "plt.ylabel(\"Runtime (s)\")\n",
    "plt.loglog(array_size, cpu_time, '.')\n",
    "plt.loglog(array_size, 10**-6 * (array_size * np.log(array_size)));"
   ]
  },
  {
   "cell_type": "markdown",
   "metadata": {},
   "source": [
    "- Complexity of matrix multiplication is $O(n\\;log(n))$ "
   ]
  },
  {
   "cell_type": "markdown",
   "metadata": {},
   "source": [
    "__7.__ Show, with examples, that the following expression may become invalid when treated numerically: $(\\frac{i}{j})j = i$ and $(x+y)-y = x$. "
   ]
  },
  {
   "cell_type": "code",
   "execution_count": 11,
   "metadata": {},
   "outputs": [
    {
     "name": "stdout",
     "output_type": "stream",
     "text": [
      "False\n"
     ]
    }
   ],
   "source": [
    "i = 1\n",
    "j = 10\n",
    "div = np.float32(i / j)\n",
    "print(div * j == i)"
   ]
  },
  {
   "cell_type": "code",
   "execution_count": 12,
   "metadata": {},
   "outputs": [
    {
     "name": "stdout",
     "output_type": "stream",
     "text": [
      "False\n"
     ]
    }
   ],
   "source": [
    "x = 0.1\n",
    "y = 0.2\n",
    "print((x + y) - y == x)"
   ]
  },
  {
   "cell_type": "markdown",
   "metadata": {},
   "source": [
    "__8.__ _Rounding error:_ Sum up $\\frac{1}{n}$, where $n=1, 2, 3, ..., 100000$. Then sum up $\\frac{1}{n}$, where $n= 100000, 99999, ..., 2, 1$. Explain any unexpected observation while using single or double precision variables. "
   ]
  },
  {
   "cell_type": "code",
   "execution_count": 13,
   "metadata": {},
   "outputs": [
    {
     "name": "stdout",
     "output_type": "stream",
     "text": [
      "double precision = 9.787606036044348\n",
      "double precision = 9.787606036044386\n",
      "single precision = 9.787613\n",
      "single precision = 9.787604\n"
     ]
    }
   ],
   "source": [
    "# double precision\n",
    "sum_up = np.float64(0)\n",
    "for i in range(1, 10001):\n",
    "    sum_up += np.float64(1 / i)\n",
    "print(\"double precision =\", sum_up)\n",
    "sum_down = np.float64(0)\n",
    "for i in range(10000, 0, -1):\n",
    "    sum_down += np.float64(1 / i)\n",
    "print(\"double precision =\", sum_down)\n",
    "\n",
    "# single precision\n",
    "sum_up = np.float32(0)\n",
    "for i in range(1, 10001):\n",
    "    sum_up += np.float32(1 / i)\n",
    "print(\"single precision =\", sum_up)\n",
    "sum_down = np.float32(0)\n",
    "for i in range(10000, 0, -1):\n",
    "    sum_down += np.float32(1 / i)\n",
    "print(\"single precision =\", sum_down)"
   ]
  },
  {
   "cell_type": "markdown",
   "metadata": {},
   "source": [
    "__9.__ Write a short computer program to calculate [the alternating harmonic series](https://en.wikipedia.org/wiki/Harmonic_series_(mathematics)#Alternating_harmonic_series). Compare your result with the exact value, $\\ln(2) $, and try to improve the accuracy as much as possible. "
   ]
  },
  {
   "cell_type": "code",
   "execution_count": 14,
   "metadata": {},
   "outputs": [
    {
     "name": "stdout",
     "output_type": "stream",
     "text": [
      "1st method = 4.999749998702008e-05\n",
      "2nd method = 4.999750000000969e-05\n",
      "3rd method = 4.999749999157199e-05\n",
      "4th method = 4.999749999690106e-05\n"
     ]
    }
   ],
   "source": [
    "# 1st method\n",
    "series_sum_up = 0\n",
    "for n in range(1, 10001):\n",
    "    series_sum_up += (-1)**(n + 1) / n\n",
    "print(\"1st method =\", abs(np.log(2) - series_sum_up))\n",
    "\n",
    "# 2nd method\n",
    "series_sum_down = 0\n",
    "for n in range(10000, 0, -1):\n",
    "    series_sum_down += (-1)**(n + 1) / n\n",
    "print(\"2nd method =\", abs(np.log(2) - series_sum_down))\n",
    "\n",
    "# 3rd method\n",
    "sum_positive = 0\n",
    "sum_negative = 0\n",
    "for n in range(1, 10001, 2):\n",
    "    sum_positive += (-1)**(n + 1) / n\n",
    "    sum_negative += (-1)**(n + 2) / (n+1)\n",
    "sum_up = sum_positive + sum_negative\n",
    "print(\"3rd method =\", abs(np.log(2) - sum_up))\n",
    "\n",
    "# 4th method\n",
    "sum_positive = 0\n",
    "sum_negative = 0\n",
    "for n in range(10000, 0, -2):\n",
    "    sum_negative += (-1)**(n + 1) / n\n",
    "    sum_positive += (-1)**n / (n - 1)\n",
    "sum_down = sum_positive + sum_negative\n",
    "print(\"4th method =\", abs(np.log(2) - sum_down))"
   ]
  },
  {
   "cell_type": "markdown",
   "metadata": {},
   "source": [
    "For the best accuracy we can raise up summation iteration and/or use first method."
   ]
  },
  {
   "cell_type": "markdown",
   "metadata": {},
   "source": [
    "__10.__ _Finite difference error scaling:_ Plot the error of FD approximating of the 1st and 2nd derivatives of $\\exp(x)$ at $x=1$ against the step size. "
   ]
  },
  {
   "cell_type": "code",
   "execution_count": 15,
   "metadata": {},
   "outputs": [],
   "source": [
    "x = 1\n",
    "h_list = 1.1**-np.arange(500)\n",
    "error = []\n",
    "for h in h_list:\n",
    "    error.append(abs((np.exp(x + h) - np.exp(x)) / h - np.exp(x)))"
   ]
  },
  {
   "cell_type": "code",
   "execution_count": 16,
   "metadata": {},
   "outputs": [
    {
     "data": {
      "image/png": "[encoded data removed]",
      "text/plain": [
       "<Figure size 432x288 with 1 Axes>"
      ]
     },
     "metadata": {
      "needs_background": "light"
     },
     "output_type": "display_data"
    }
   ],
   "source": [
    "plt.xlabel(\"Step size\")\n",
    "plt.ylabel(\"Error\")\n",
    "plt.loglog(h_list, error, '.')\n",
    "plt.loglog(h_list[:230], h_list[:230]);"
   ]
  },
  {
   "cell_type": "markdown",
   "metadata": {},
   "source": [
    "- 1st derivative error is $O(n)$ "
   ]
  },
  {
   "cell_type": "code",
   "execution_count": 17,
   "metadata": {},
   "outputs": [],
   "source": [
    "x = 1\n",
    "h_list = 1.1**-np.arange(200)\n",
    "error = []\n",
    "for h in h_list:\n",
    "    error.append(abs((np.exp(x + h) - 2 * np.exp(x) + np.exp(x - h)) / h**2 - np.exp(x)))"
   ]
  },
  {
   "cell_type": "code",
   "execution_count": 18,
   "metadata": {},
   "outputs": [
    {
     "data": {
      "image/png": "[encoded data removed]",
      "text/plain": [
       "<Figure size 432x288 with 1 Axes>"
      ]
     },
     "metadata": {
      "needs_background": "light"
     },
     "output_type": "display_data"
    }
   ],
   "source": [
    "plt.xlabel(\"Step size\")\n",
    "plt.ylabel(\"Error\")\n",
    "plt.loglog(h_list, error, '.')\n",
    "plt.loglog(h_list[:110], h_list[:110]**2);"
   ]
  },
  {
   "cell_type": "markdown",
   "metadata": {},
   "source": [
    "- 2nd derivative error is $O(n^2)$ "
   ]
  },
  {
   "cell_type": "markdown",
   "metadata": {},
   "source": [
    "__11.__ Find iteratively the root(s) of $f(x)=\\cos(x)-x$ using the bisection method. Plot the distance from the analytic solution versus the iteration count. "
   ]
  },
  {
   "cell_type": "code",
   "execution_count": 19,
   "metadata": {},
   "outputs": [
    {
     "name": "stdout",
     "output_type": "stream",
     "text": [
      "steps = 28\n",
      "minimum = 0.7390851527452469\n"
     ]
    }
   ],
   "source": [
    "def f(x):\n",
    "    return np.cos(x) - x\n",
    "\n",
    "up = -10\n",
    "down = 10\n",
    "root = 0.73908513321516064166\n",
    "counter = 0\n",
    "error = []\n",
    "while abs(up - down) >= 1e-7:\n",
    "    mean = (up + down) / 2\n",
    "    error.append(root - mean)\n",
    "    if f(mean) < 0 and f(mean) > f(down):\n",
    "        down = mean\n",
    "    elif f(mean) > 0 and f(mean) < f(up):\n",
    "        up = mean\n",
    "    counter += 1\n",
    "print(\"steps =\", counter)\n",
    "print(\"minimum =\", mean)"
   ]
  },
  {
   "cell_type": "code",
   "execution_count": 20,
   "metadata": {},
   "outputs": [
    {
     "data": {
      "image/png": "[encoded data removed]",
      "text/plain": [
       "<Figure size 432x288 with 1 Axes>"
      ]
     },
     "metadata": {
      "needs_background": "light"
     },
     "output_type": "display_data"
    }
   ],
   "source": [
    "plt.xlabel(\"Iteration\")\n",
    "plt.ylabel(\"Error\")\n",
    "plt.plot(error);"
   ]
  },
  {
   "cell_type": "markdown",
   "metadata": {},
   "source": [
    "__12.__ Find iteratively the root(s) of $f(x)=\\cos(x)-x$ using the Newton-Raphson method. Plot the distance from the analytic solution versus the iteration count and compare it with the bisection method result. "
   ]
  },
  {
   "cell_type": "code",
   "execution_count": 21,
   "metadata": {},
   "outputs": [
    {
     "name": "stdout",
     "output_type": "stream",
     "text": [
      "steps = 8\n",
      "root = 0.7390851332151607\n"
     ]
    }
   ],
   "source": [
    "def f(x):\n",
    "    return np.cos(x) - x\n",
    "\n",
    "def f_prime(x):\n",
    "    return -np.sin(x) - 1\n",
    "\n",
    "x = -1.0\n",
    "x_pre = -1.1\n",
    "root = 0.73908513321516064166\n",
    "counter = 0\n",
    "error = []\n",
    "while abs(x - x_pre) >= 1e-7:\n",
    "    x_pre = x\n",
    "    x = x - f(x) / f_prime(x)\n",
    "    error.append(root - x)\n",
    "    counter += 1\n",
    "print(\"steps =\", counter)\n",
    "print(\"root =\", x)"
   ]
  },
  {
   "cell_type": "code",
   "execution_count": 22,
   "metadata": {},
   "outputs": [
    {
     "data": {
      "image/png": "[encoded data removed]",
      "text/plain": [
       "<Figure size 432x288 with 1 Axes>"
      ]
     },
     "metadata": {
      "needs_background": "light"
     },
     "output_type": "display_data"
    }
   ],
   "source": [
    "plt.xlabel(\"Iteration\")\n",
    "plt.ylabel(\"Error\")\n",
    "plt.plot(error);"
   ]
  },
  {
   "cell_type": "markdown",
   "metadata": {},
   "source": [
    "__13.__ _Energy minimization:_ Where is the minimum of the Lennard-Jones potential $U(r)=4\\epsilon[(\\frac{\\sigma}{r})^{12}-(\\frac{\\sigma}{r})^6]$? (Do it analytically!) Write a program to find numerically the equilibrium distance (corresponding to the minimum potential energy) of the LJ potential using the Newton's method. "
   ]
  },
  {
   "cell_type": "code",
   "execution_count": 23,
   "metadata": {},
   "outputs": [
    {
     "name": "stdout",
     "output_type": "stream",
     "text": [
      "steps = 7\n",
      "minimum = 1.122462048309373\n"
     ]
    }
   ],
   "source": [
    "epsilon = 1\n",
    "sigma = 1\n",
    "\n",
    "def lj_p(r):\n",
    "    return -24 * epsilon * (sigma / r)**6 * (2 * (sigma / r)**6 - 1) / r\n",
    "\n",
    "def lj_pp(r):\n",
    "    return 24 * epsilon * (sigma/ r)**6 * (26 * (sigma / r)**6 - 7) / r**2\n",
    "\n",
    "r = 1.0\n",
    "r_pre = 1.1\n",
    "counter = 0\n",
    "error = []\n",
    "while abs(r - r_pre) >= 1e-7:\n",
    "    r_pre = r\n",
    "    r = r - lj_p(r) / lj_pp(r)\n",
    "    counter += 1\n",
    "print(\"steps =\", counter)\n",
    "print(\"minimum =\", r)"
   ]
  },
  {
   "cell_type": "markdown",
   "metadata": {},
   "source": [
    "__14.__ Use the steepest-descent method to minimize the LJ potential of the previous exercise. Implement a feed-back mechanism to tune the step-size. "
   ]
  },
  {
   "cell_type": "code",
   "execution_count": 24,
   "metadata": {},
   "outputs": [
    {
     "name": "stdout",
     "output_type": "stream",
     "text": [
      "steps = 22\n",
      "minimum = 1.1224620486902446\n"
     ]
    }
   ],
   "source": [
    "epsilon = 1\n",
    "sigma = 1\n",
    "\n",
    "def lj_p(r):\n",
    "    return -24 * epsilon * (sigma / r)**6 * (2 * (sigma / r)**6 - 1) / r\n",
    "\n",
    "def lj_pp(r):\n",
    "    return 24 * epsilon * (sigma/ r)**6 * (26 * (sigma / r)**6 - 7) / r**2\n",
    "\n",
    "r_0 = 1\n",
    "alpha = 1 / lj_pp(r_0)\n",
    "counter = 0\n",
    "while True:\n",
    "    r = r_0 - alpha * lj_p(r_0)\n",
    "    if abs(r - r_0) <= 1e-7:\n",
    "        break\n",
    "    elif abs(lj_p(r)) <= abs(lj_p(r_0)):\n",
    "        alpha = alpha * 1.1\n",
    "        r_0 = r\n",
    "    else:\n",
    "        alpha = alpha * 0.5\n",
    "    counter += 1\n",
    "print(\"steps =\", counter)\n",
    "print(\"minimum =\", r)"
   ]
  },
  {
   "cell_type": "markdown",
   "metadata": {},
   "source": [
    "__15.__ _Minimizing a 2D function:_ Using either Newton or steepest descent method, find the extermum point(s) of the 2D function $f(x,y)=x^2+y^2+x(y-1)$. Add a feed-back control to tune the step-size. "
   ]
  },
  {
   "cell_type": "code",
   "execution_count": 25,
   "metadata": {},
   "outputs": [],
   "source": [
    "def f(r):\n",
    "    return r[0]**2 + r[1]**2 + r[0] * (r[1] - 1)\n",
    "\n",
    "def f_prime(r):\n",
    "    return np.array([2 * r[0] + r[1] - 1, 2 * r[1] + r[0]])"
   ]
  },
  {
   "cell_type": "code",
   "execution_count": 26,
   "metadata": {},
   "outputs": [
    {
     "name": "stdout",
     "output_type": "stream",
     "text": [
      "newton's steps = 1\n",
      "newton's minimum = 1.1224620486902446\n"
     ]
    }
   ],
   "source": [
    "# Newton Method\n",
    "r_0 = [100, 100]\n",
    "A = np.array([[2 / 3, -1 / 3], [-1 / 3, 2 / 3]]) # Inverse of second partial derivatives matrix\n",
    "counter = 0\n",
    "while True:\n",
    "    step = np.matmul(A, f_prime(r_0))\n",
    "    r_new = r_0 - step\n",
    "    if ((r_new[0] - r_0[0]) ** 2 + (r_new[1] - r_0[1]) ** 2) ** 0.5 <= 1e-7:\n",
    "        break\n",
    "    r_0 = r_new\n",
    "    counter += 1\n",
    "print(\"newton's steps =\", counter)\n",
    "print(\"newton's minimum =\", r)"
   ]
  },
  {
   "cell_type": "code",
   "execution_count": 27,
   "metadata": {},
   "outputs": [
    {
     "name": "stdout",
     "output_type": "stream",
     "text": [
      "steepest descent's step = 27\n",
      "steepest descent's minimum = [ 0.66666644 -0.33333319]\n"
     ]
    }
   ],
   "source": [
    "# Steepest Descent Method\n",
    "r_0 = np.array([100, 100])\n",
    "alpha = 1\n",
    "counter = 0\n",
    "while True:\n",
    "    r_new = r_0 - alpha * f_prime(r_0)\n",
    "    if (np.abs(r_new - r_0) <= [1e-7, 1e-7]).all():\n",
    "        break\n",
    "    elif (np.abs(f_prime(r_new)) < np.abs(f_prime(r_0))).all():\n",
    "        alpha = alpha * 1.2\n",
    "        r_0 = r_new\n",
    "    else:\n",
    "        alpha = alpha * 0.5\n",
    "    counter += 1\n",
    "print(\"steepest descent's step =\", counter)\n",
    "print(\"steepest descent's minimum =\", r_0)"
   ]
  },
  {
   "cell_type": "markdown",
   "metadata": {},
   "source": [
    "__16.__ _Simulating projectile motion:_ Use the Verlet algorithm to integrate the equation of motion for a point projectile subject to the earth gravity only, and plot the trajectory. (If interested, you may also add an air resistance term.) "
   ]
  },
  {
   "cell_type": "code",
   "execution_count": 28,
   "metadata": {},
   "outputs": [],
   "source": [
    "pos = np.zeros(2)\n",
    "vel = np.array([2, 3])\n",
    "acc = np.zeros(2)\n",
    "dt = 0.01\n",
    "g = 9.8\n",
    "mass = 1\n",
    "air_res = 0\n",
    "pos_list = [pos]\n",
    "\n",
    "def force(pos, vel, air_res, mass):\n",
    "    return np.array([- (air_res * vel[0]), - (mass * g) - (air_res * vel[1])])\n",
    "    \n",
    "while (pos >= [0, 0]).all():\n",
    "    pos = pos + vel * dt + acc * dt**2 / 2\n",
    "    acc_new = force(pos, vel, air_res, mass) / mass\n",
    "    vel = vel + (acc + acc_new) / 2 * dt\n",
    "    acc = force(pos, vel, air_res, mass) / mass\n",
    "    pos_list.append(pos)"
   ]
  },
  {
   "cell_type": "code",
   "execution_count": 29,
   "metadata": {},
   "outputs": [
    {
     "data": {
      "image/png": "[encoded data removed]",
      "text/plain": [
       "<Figure size 432x288 with 1 Axes>"
      ]
     },
     "metadata": {
      "needs_background": "light"
     },
     "output_type": "display_data"
    }
   ],
   "source": [
    "pos_list = np.array(pos_list)\n",
    "plt.plot(pos_list[:, 0], pos_list[:, 1], '.');"
   ]
  },
  {
   "cell_type": "markdown",
   "metadata": {},
   "source": [
    "__17.__ _Single Particle MD:_ Use the Verlet algorithm to integrate the 2D equation of motion for a point particle trapped in a box with (a) hard (reflecting) walls, or (b) periodic boundary conditions. Start from a random initial position and velocity and visualize the trajectory. "
   ]
  },
  {
   "cell_type": "code",
   "execution_count": 30,
   "metadata": {},
   "outputs": [],
   "source": [
    "# Box with hard walls\n",
    "pos = np.random.random(2)\n",
    "vel = np.random.random(2)\n",
    "acc = np.zeros(2)\n",
    "dt = 0.01\n",
    "pos_list = [pos]\n",
    "    \n",
    "for _ in range (3000):\n",
    "    pos = pos + vel * dt + acc * dt**2 / 2\n",
    "    vel = vel + (acc + acc) / 2 * dt\n",
    "    if pos[0] >= 1 or pos[0] <= 0:\n",
    "        vel[0] = -vel[0]\n",
    "    if pos[1] >= 1 or pos[1] <= 0:\n",
    "        vel[1] = -vel[1]\n",
    "    pos_list.append(pos)\n",
    "pos_list = np.array(pos_list)"
   ]
  },
  {
   "cell_type": "code",
   "execution_count": 31,
   "metadata": {},
   "outputs": [],
   "source": [
    "%%capture\n",
    "fig = plt.figure()\n",
    "ax = fig.add_subplot(111, autoscale_on=False, xlim=(0, 1), ylim=(0, 1))\n",
    "ax.set_aspect('equal')\n",
    "line, = ax.plot([], [], 'o-', linestyle=\"\")\n",
    "time_template = 'time = %.1fs'\n",
    "time_text = ax.text(0.05, 0.9, '', transform=ax.transAxes)\n",
    "\n",
    "def init():\n",
    "    line.set_data([], [])\n",
    "    time_text.set_text('')\n",
    "    return line, time_text\n",
    "\n",
    "def animate(i):\n",
    "    thisx = [pos_list[i, 0]]\n",
    "    thisy = [pos_list[i, 1]]\n",
    "    line.set_data(thisx, thisy)\n",
    "    time_text.set_text(time_template % (i * dt))\n",
    "    return line, time_text\n",
    "\n",
    "ani = animation.FuncAnimation(fig, animate, np.arange(1, len(pos_list[:, 0])), interval=10, blit=True, init_func=init)\n",
    "Writer = animation.writers['ffmpeg']\n",
    "writer = Writer(fps=100, bitrate=200)\n",
    "# ani.save('17_hard_box.mp4', writer=writer)"
   ]
  },
  {
   "cell_type": "code",
   "execution_count": 32,
   "metadata": {},
   "outputs": [],
   "source": [
    "# Box with periodic boundary condition\n",
    "pos = np.random.random(2)\n",
    "vel = np.random.random(2)\n",
    "acc = np.zeros(2)\n",
    "dt = 0.01\n",
    "pos_list = [pos]\n",
    "\n",
    "for _ in range (3000):\n",
    "    pos = pos + vel * dt + acc * dt**2 / 2\n",
    "    vel = vel + (acc + acc) / 2 * dt\n",
    "    pos = pos % 1\n",
    "    pos_list.append(pos)\n",
    "pos_list = np.array(pos_list)"
   ]
  },
  {
   "cell_type": "code",
   "execution_count": 33,
   "metadata": {},
   "outputs": [],
   "source": [
    "%%capture\n",
    "fig = plt.figure()\n",
    "ax = fig.add_subplot(111, autoscale_on=False, xlim=(0, 1), ylim=(0, 1))\n",
    "ax.set_aspect('equal')\n",
    "line, = ax.plot([], [], 'o-', linestyle=\"\")\n",
    "time_template = 'time = %.1fs'\n",
    "time_text = ax.text(0.05, 0.9, '', transform=ax.transAxes)\n",
    "\n",
    "def init():\n",
    "    line.set_data([], [])\n",
    "    time_text.set_text('')\n",
    "    return line, time_text\n",
    "\n",
    "def animate(i):\n",
    "    thisx = [pos_list[i, 0]]\n",
    "    thisy = [pos_list[i, 1]]\n",
    "    line.set_data(thisx, thisy)\n",
    "    time_text.set_text(time_template % (i * dt))\n",
    "    return line, time_text\n",
    "\n",
    "ani = animation.FuncAnimation(fig, animate, np.arange(1, len(pos_list[:, 0])), interval=10, blit=True, init_func=init)\n",
    "Writer = animation.writers['ffmpeg']\n",
    "writer = Writer(fps=100, bitrate=200)\n",
    "# ani.save('17_periodic_box.mp4', writer=writer)"
   ]
  },
  {
   "cell_type": "markdown",
   "metadata": {},
   "source": [
    "__18.__ _The two-ball bounce problem:_ Adopt your MD program to simulate the motion of two balls (hard spheres) within the square box with (a) hard (reflecting) walls, or (b) periodic boundary conditions. The balls are bounced from each other once in touch. Start from random initial positions and plot the trajectories. "
   ]
  },
  {
   "cell_type": "code",
   "execution_count": 34,
   "metadata": {},
   "outputs": [],
   "source": [
    "# Box with hard walls\n",
    "pos_1 = np.random.random(2)\n",
    "vel_1 = np.random.random(2)\n",
    "acc_1 = np.zeros(2)\n",
    "pos_2 = np.random.random(2)\n",
    "vel_2 = np.random.random(2)\n",
    "acc_2 = np.zeros(2)\n",
    "dt = 0.01\n",
    "pos_list_1 = [pos_1]\n",
    "pos_list_2 = [pos_2]\n",
    "radius = 0.25\n",
    "    \n",
    "for _ in range (3000):\n",
    "    pos_1 = pos_1 + vel_1 * dt + acc_1 * dt**2 / 2\n",
    "    pos_2 = pos_2 + vel_2 * dt + acc_2 * dt**2 / 2\n",
    "    vel_1 = vel_1 + (acc_1 + acc_1) / 2 * dt\n",
    "    vel_2 = vel_2 + (acc_2 + acc_2) / 2 * dt\n",
    "    dist = (pos_1[0] - pos_2[0])**2 + (pos_1[1] - pos_2[1])**2\n",
    "    if dist <= radius**2:\n",
    "        vel_1 -= np.dot(vel_1 - vel_2, pos_1 - pos_2) * (pos_1 - pos_2) / dist\n",
    "        vel_2 -= np.dot(vel_2 - vel_1, pos_2 - pos_1) * (pos_2 - pos_1) / dist\n",
    "    if pos_1[0] >= 1 or pos_1[0] <= 0:\n",
    "        vel_1[0] = -vel_1[0]\n",
    "    if pos_1[1] >= 1 or pos_1[1] <= 0:\n",
    "        vel_1[1] = -vel_1[1]\n",
    "    if pos_2[0] >= 1 or pos_2[0] <= 0:\n",
    "        vel_2[0] = -vel_2[0]\n",
    "    if pos_2[1] >= 1 or pos_2[1] <= 0:\n",
    "        vel_2[1] = -vel_2[1]\n",
    "    pos_list_1.append(pos_1)\n",
    "    pos_list_2.append(pos_2)\n",
    "pos_list_1 = np.array(pos_list_1)\n",
    "pos_list_2 = np.array(pos_list_2)"
   ]
  },
  {
   "cell_type": "code",
   "execution_count": 35,
   "metadata": {},
   "outputs": [],
   "source": [
    "%%capture\n",
    "fig = plt.figure()\n",
    "ax = fig.add_subplot(111, autoscale_on=False, xlim=(0, 1), ylim=(0, 1))\n",
    "ax.set_aspect('equal')\n",
    "line, = ax.plot([], [], 'o-', linestyle=\"\")\n",
    "time_template = 'time = %.1fs'\n",
    "time_text = ax.text(0.05, 0.9, '', transform=ax.transAxes)\n",
    "\n",
    "def init():\n",
    "    line.set_data([], [])\n",
    "    time_text.set_text('')\n",
    "    return line, time_text\n",
    "\n",
    "def animate(i):\n",
    "    thisx = [pos_list_1[i, 0], pos_list_2[i, 0]]\n",
    "    thisy = [pos_list_1[i, 1], pos_list_2[i, 1]]\n",
    "    line.set_data(thisx, thisy)\n",
    "    time_text.set_text(time_template % (i * dt))\n",
    "    return line, time_text\n",
    "\n",
    "ani = animation.FuncAnimation(fig, animate, np.arange(1, len(pos_list_1[:, 0])), interval=10, blit=True, init_func=init)\n",
    "Writer = animation.writers['ffmpeg']\n",
    "writer = Writer(fps=100, bitrate=200)\n",
    "# ani.save('18_hard_box.mp4', writer=writer)"
   ]
  },
  {
   "cell_type": "code",
   "execution_count": 36,
   "metadata": {},
   "outputs": [],
   "source": [
    "# Box with periodic boundary condition\n",
    "pos_1 = np.random.random(2)\n",
    "vel_1 = np.random.random(2)\n",
    "acc_1 = np.zeros(2)\n",
    "pos_2 = np.random.random(2)\n",
    "vel_2 = np.random.random(2)\n",
    "acc_2 = np.zeros(2)\n",
    "dt = 0.01\n",
    "pos_list_1 = [pos_1]\n",
    "pos_list_2 = [pos_2]\n",
    "radius = 0.25\n",
    "    \n",
    "for _ in range (3000):\n",
    "    pos_1 = pos_1 + vel_1 * dt + acc_1 * dt**2 / 2\n",
    "    pos_2 = pos_2 + vel_2 * dt + acc_2 * dt**2 / 2\n",
    "    vel_1 = vel_1 + (acc_1 + acc_1) / 2 * dt\n",
    "    vel_2 = vel_2 + (acc_2 + acc_2) / 2 * dt\n",
    "    pos_1 = pos_1 % 1\n",
    "    pos_2 = pos_2 % 1\n",
    "    dist = (pos_1[0] - pos_2[0])**2 + (pos_1[1] - pos_2[1])**2\n",
    "    if dist <= radius**2:\n",
    "        vel_1 -= np.dot(vel_1 - vel_2, pos_1 - pos_2) * (pos_1 - pos_2) / dist\n",
    "        vel_2 -= np.dot(vel_2 - vel_1, pos_2 - pos_1) * (pos_2 - pos_1) / dist\n",
    "    pos_list_1.append(pos_1)\n",
    "    pos_list_2.append(pos_2)\n",
    "pos_list_1 = np.array(pos_list_1)\n",
    "pos_list_2 = np.array(pos_list_2)"
   ]
  },
  {
   "cell_type": "code",
   "execution_count": 37,
   "metadata": {},
   "outputs": [],
   "source": [
    "%%capture\n",
    "fig = plt.figure()\n",
    "ax = fig.add_subplot(111, autoscale_on=False, xlim=(0, 1), ylim=(0, 1))\n",
    "ax.set_aspect('equal')\n",
    "line, = ax.plot([], [], 'o-', linestyle=\"\")\n",
    "time_template = 'time = %.1fs'\n",
    "time_text = ax.text(0.05, 0.9, '', transform=ax.transAxes)\n",
    "\n",
    "def init():\n",
    "    line.set_data([], [])\n",
    "    time_text.set_text('')\n",
    "    return line, time_text\n",
    "\n",
    "def animate(i):\n",
    "    thisx = [pos_list_1[i, 0], pos_list_2[i, 0]]\n",
    "    thisy = [pos_list_1[i, 1], pos_list_2[i, 1]]\n",
    "    line.set_data(thisx, thisy)\n",
    "    time_text.set_text(time_template % (i * dt))\n",
    "    return line, time_text\n",
    "\n",
    "ani = animation.FuncAnimation(fig, animate, np.arange(1, len(pos_list_1[:, 0])), interval=10, blit=True, init_func=init)\n",
    "Writer = animation.writers['ffmpeg']\n",
    "writer = Writer(fps=100, bitrate=200)\n",
    "# ani.save('18_periodic_box.mp4', writer=writer)"
   ]
  },
  {
   "cell_type": "markdown",
   "metadata": {},
   "source": [
    "__19.__ _Normal random distribution:_ For 1000 identical point-particles of the same mass as a water molecule, we need to initialize the velocities according to a [Maxwell-Boltzmann distribution](https://en.wikipedia.org/wiki/Maxwell%E2%80%93Boltzmann_distribution) at room temperature. Write a short subroutine to do it. Then plot the distribution of the particles speed (i.e. the magnitude of the velocity vector). The histogram should look like [this plot](https://en.wikipedia.org/wiki/Maxwell%E2%80%93Boltzmann_distribution#/media/File:MaxwellBoltzmann-en.svg). "
   ]
  },
  {
   "cell_type": "code",
   "execution_count": 38,
   "metadata": {
    "scrolled": false
   },
   "outputs": [],
   "source": [
    "num = 1000\n",
    "mass = 18 / 6.022 * 1e-26 \n",
    "temp = 300\n",
    "kB = 1.38e-23\n",
    "ekin_0 = 3 / 2 * kB * temp\n",
    "vel = np.random.normal(0, 1, (3, num))\n",
    "vel_cm = np.mean(vel, axis=1)\n",
    "for i in range(3):\n",
    "    vel[i] -= vel_cm[i]\n",
    "ekin = mass * np.mean(vel**2) / 2\n",
    "coef = np.sqrt(ekin_0 / ekin)\n",
    "vel *= coef "
   ]
  },
  {
   "cell_type": "code",
   "execution_count": 39,
   "metadata": {
    "scrolled": false
   },
   "outputs": [
    {
     "data": {
      "image/png": "[encoded data removed]",
      "text/plain": [
       "<Figure size 432x288 with 1 Axes>"
      ]
     },
     "metadata": {
      "needs_background": "light"
     },
     "output_type": "display_data"
    }
   ],
   "source": [
    "plt.xlabel(\"Speed (m/s)\")\n",
    "plt.ylabel(\"Probability Density\")\n",
    "plt.hist(np.sqrt(np.mean(vel**2, axis=0)), bins=50, density=True);"
   ]
  },
  {
   "cell_type": "markdown",
   "metadata": {},
   "source": [
    "__20.__ _MC:_ Generate N pairs of random numbers uniformly distributed on the unit square. Evaluate π as explained in the lecture and visualized [here](https://en.wikipedia.org/wiki/Pi#/media/File:Pi_30K.gif). Plot the error versus N."
   ]
  },
  {
   "cell_type": "code",
   "execution_count": 40,
   "metadata": {
    "scrolled": false
   },
   "outputs": [],
   "source": [
    "N_list = np.arange(1, 10000, 10)\n",
    "error = []\n",
    "for N in N_list:\n",
    "    x = np.random.uniform(size=N)\n",
    "    y = np.random.uniform(size=N)\n",
    "    counter = 0\n",
    "    for i in range(N):\n",
    "        if x[i]**2 + y[i]**2 < 1:\n",
    "            counter += 1\n",
    "    error.append(abs(counter / N * 4 - np.pi))"
   ]
  },
  {
   "cell_type": "code",
   "execution_count": 41,
   "metadata": {},
   "outputs": [
    {
     "data": {
      "image/png": "[encoded data removed]",
      "text/plain": [
       "<Figure size 432x288 with 1 Axes>"
      ]
     },
     "metadata": {
      "needs_background": "light"
     },
     "output_type": "display_data"
    }
   ],
   "source": [
    "plt.xlabel(\"N\")\n",
    "plt.ylabel(\"Error\")\n",
    "plt.loglog(N_list, error, '.')\n",
    "plt.plot(N_list, N_list**-0.5);"
   ]
  },
  {
   "cell_type": "markdown",
   "metadata": {},
   "source": [
    "- error is $O(\\sqrt{n})$ "
   ]
  },
  {
   "cell_type": "markdown",
   "metadata": {},
   "source": [
    "__21.__ _MC integration:_ Generate N numbers uniformly distributed within $[0,π]$. Evaluate the integral of $\\sin(x)$ within $[0,π]$ using the MC integration method explained in the class. Plot the error versus N and determine the error scaling. "
   ]
  },
  {
   "cell_type": "code",
   "execution_count": 42,
   "metadata": {},
   "outputs": [],
   "source": [
    "N_list = np.arange(1, 10000, 10)\n",
    "error = []\n",
    "interval = [0, np.pi / 2]\n",
    "for N in N_list:\n",
    "    x = np.random.random(N) * (interval[1] - interval[0]) + interval[0] \n",
    "    integral = 0\n",
    "    for i in range(N):\n",
    "        integral += np.sin(x[i]) * (interval[1] - interval[0]) / N\n",
    "    error.append(abs(1 - integral))"
   ]
  },
  {
   "cell_type": "code",
   "execution_count": 43,
   "metadata": {},
   "outputs": [
    {
     "data": {
      "image/png": "[encoded data removed]",
      "text/plain": [
       "<Figure size 432x288 with 1 Axes>"
      ]
     },
     "metadata": {
      "needs_background": "light"
     },
     "output_type": "display_data"
    }
   ],
   "source": [
    "plt.xlabel(\"N\")\n",
    "plt.ylabel(\"Error\")\n",
    "plt.loglog(N_list, error, '.')\n",
    "plt.plot(N_list, N_list**-0.5);"
   ]
  },
  {
   "cell_type": "markdown",
   "metadata": {},
   "source": [
    "- error is $O(\\sqrt{n})$ "
   ]
  },
  {
   "cell_type": "markdown",
   "metadata": {},
   "source": [
    "__22.__ _Markov chain:_ Make a Markov chain by 1D random walker. The walker takes steps of equal length but in a random direction (50% to the right, 50% to the left). Plot the distance from the origin, $|x|$, as a function of time (step index). What is the slope of the linear part if any, what is its meaning?"
   ]
  },
  {
   "cell_type": "code",
   "execution_count": 44,
   "metadata": {},
   "outputs": [],
   "source": [
    "pos = 0\n",
    "distance = []\n",
    "steps = np.random.choice([-1, 1], size=1000)\n",
    "for step in steps:\n",
    "    pos += step\n",
    "    distance.append(pos)"
   ]
  },
  {
   "cell_type": "code",
   "execution_count": 45,
   "metadata": {},
   "outputs": [
    {
     "data": {
      "image/png": "[encoded data removed]",
      "text/plain": [
       "<Figure size 432x288 with 1 Axes>"
      ]
     },
     "metadata": {
      "needs_background": "light"
     },
     "output_type": "display_data"
    }
   ],
   "source": [
    "plt.xlabel(\"Steps (time)\")\n",
    "plt.ylabel(\"Distance from the origin\")\n",
    "plt.plot(distance, '.');"
   ]
  },
  {
   "cell_type": "markdown",
   "metadata": {},
   "source": [
    "__23.__ _Random walk:_ Starting from the origin $(0,0,0)$, choose a random direction in 3D space and take a step of length one in that direction. For some $N=1000$ steps, plot the trajectory. Then plot also the distance to the origin, $\\sqrt{x^2+y^2+z^2}$, as a function of the step number (Note: Make an ensemble of 100 walkers, and calculate the distance as the ensemble average.)"
   ]
  },
  {
   "cell_type": "code",
   "execution_count": 46,
   "metadata": {},
   "outputs": [],
   "source": [
    "init_pos = [0, 0, 0]\n",
    "distance = []\n",
    "walkers = np.arange(1, 100)\n",
    "steps = np.arange(1000)\n",
    "for walker in walkers:\n",
    "    dist = []\n",
    "    for step in steps:\n",
    "        theta = np.pi * np.random.random(step)\n",
    "        phi = 2 * np.pi * np.random.random(step)\n",
    "        pos = [0, 0, 0]\n",
    "        for stp in range(step):\n",
    "            pos[0] += np.sin(theta[stp]) * np.cos(phi[stp])\n",
    "            pos[1] += np.sin(theta[stp]) * np.sin(phi[stp])\n",
    "            pos[2] += np.cos(theta[stp])\n",
    "        dist.append(np.sqrt((init_pos[0] - pos[0])**2 + (init_pos[1] - pos[1])**2 + (init_pos[2] - pos[2])**2))\n",
    "    distance.append(dist)\n",
    "distance = np.mean(distance, axis=0)"
   ]
  },
  {
   "cell_type": "code",
   "execution_count": 47,
   "metadata": {},
   "outputs": [
    {
     "data": {
      "image/png": "[encoded data removed]",
      "text/plain": [
       "<Figure size 432x288 with 1 Axes>"
      ]
     },
     "metadata": {
      "needs_background": "light"
     },
     "output_type": "display_data"
    }
   ],
   "source": [
    "plt.xlabel(\"Steps (time)\")\n",
    "plt.ylabel(\"Distance from the origin\")\n",
    "plt.loglog(steps, distance, '.')\n",
    "plt.plot(steps, np.sqrt(steps));"
   ]
  },
  {
   "cell_type": "markdown",
   "metadata": {},
   "source": [
    "- Distance from the origin is $O(\\sqrt{time})$ "
   ]
  },
  {
   "cell_type": "markdown",
   "metadata": {},
   "source": [
    "__24.__ _Machine Learning (k-means):_ \n",
    "\n",
    "- __1D:__ Split up the following datapoints into two groups using the k-means algorithm: 10, 23, 15, 9, 32, 27, 8, 14, 35, 24. \n",
    "\n",
    "- __2D:__ [This set of x-y datapoints](http://comphys.sbu.ac.ir/teach/F18/ML/2D.txt) is spread around 4 peaks. Group them into 4 groups and visualize it in a scatter plot with different colors for different groups. Now, repeat the grouping procedure but split the same data set into 3 groups. Explain your observation on a new scatter plot. "
   ]
  },
  {
   "cell_type": "code",
   "execution_count": 48,
   "metadata": {},
   "outputs": [
    {
     "name": "stdout",
     "output_type": "stream",
     "text": [
      "clusters are [[10, 15, 9, 8, 14], [23, 32, 27, 35, 24]]\n",
      "centers are [11.2 28.2]\n"
     ]
    }
   ],
   "source": [
    "# 1D\n",
    "datapoints = [10, 23, 15, 9, 32, 27, 8, 14, 35, 24]\n",
    "groups = [[],[]]\n",
    "centers = datapoints[:2]\n",
    "pre_centers = np.zeros(2)\n",
    "while (pre_centers != centers).all():\n",
    "    clusters = [[], []]\n",
    "    pre_centers = centers\n",
    "    for i in range(len(datapoints)):\n",
    "        if abs(datapoints[i] - centers[0]) < abs(datapoints[i] - centers[1]):\n",
    "            clusters[0].append(datapoints[i])\n",
    "        else:\n",
    "            clusters[1].append(datapoints[i])\n",
    "    centers = np.mean(clusters, axis=1)\n",
    "print(\"clusters are\", clusters)\n",
    "print(\"centers are\", centers)"
   ]
  },
  {
   "cell_type": "code",
   "execution_count": 49,
   "metadata": {},
   "outputs": [],
   "source": [
    "# 2D\n",
    "def distance(a, b):\n",
    "    return np.sqrt((a[0] - b[:, 0])**2 + (a[1] - b[:, 1])**2)\n",
    "\n",
    "datapoints = np.loadtxt(\"2D.txt\")\n",
    "centers = np.array([[10, 60], [30, 10], [40, 40], [60, 80]])\n",
    "pre_centers = np.zeros((4,2))\n",
    "while (pre_centers != centers).all():\n",
    "    clusters = [[], [], [], []]\n",
    "    pre_centers = centers\n",
    "    for i in range(len(datapoints)):\n",
    "        dists = distance(datapoints[i], centers)\n",
    "        clusters[np.argmin(dists)].append(datapoints[i])\n",
    "    for j in range(len(centers)):\n",
    "        centers[j] = np.mean(clusters[j], axis=0)"
   ]
  },
  {
   "cell_type": "code",
   "execution_count": 50,
   "metadata": {
    "scrolled": true
   },
   "outputs": [
    {
     "data": {
      "image/png": "[encoded data removed]",
      "text/plain": [
       "<Figure size 432x288 with 1 Axes>"
      ]
     },
     "metadata": {
      "needs_background": "light"
     },
     "output_type": "display_data"
    }
   ],
   "source": [
    "colors = ['r.','y.','g.','b.']\n",
    "for i in range(len(clusters)):\n",
    "    cluster = np.array(clusters[i])\n",
    "    plt.plot(cluster[:,0], cluster[:,1], colors[i])\n",
    "plt.plot(centers[:,0],centers[:,1], 'k+');"
   ]
  },
  {
   "cell_type": "markdown",
   "metadata": {},
   "source": [
    "__25.__ _Machine Learning (Kernel ridge regression):_ \n",
    "- __(a)__ Generate training data set yourself: For 100 values of x, randomly distributed in $[-10,20]$, calculate the target function $y(x)=\\frac{\\sin(x)}{x}+0.1\\cos(\\frac{x}{2})$ and add a random noise (between -0.2 to 0.2) to them. Store the 100 $(x,y)$ pairs as the training input set. \n",
    "- __(b)__ Train your KRR model to this set (with $\\lambda=0.001$ and $\\sigma=1$). You need to solve the system of equation $(K+\\lambda I)C=y$ for the vector of coefficients $C$, where the covariance matrix reads $K_{ij}=\\exp(\\frac{-|x_i-x_j|^2}{\\sigma^2})$ and $I$ is the identity matrix while the vector $y$ contains the target y-values from the training set. \n",
    "- __(c)__ Validate your KRR model. For e.g. one thousand of x values, estimate $y_{ML}(x) = \\sum c_i \\exp(\\frac{-|x-x_i|^2}{\\sigma^2})$. Compare your predicted value with the true one $y(x)=\\frac{\\sin(x)}{x}+0.1\\cos(\\frac{x}{2})$ either by visualizing on a plot, or by calculating $RMSE=\\frac{1}{N} \\sum(y_{ML}(x_i)-y(x_i))^2$, and report it. \n",
    "- __(d)__ _(OPTIONAL)_ Search for the hyper-parameters $\\sigma$ and $\\lambda$ that lead to the smallest RMSE."
   ]
  },
  {
   "cell_type": "code",
   "execution_count": 51,
   "metadata": {},
   "outputs": [],
   "source": [
    "def y(x):\n",
    "    return np.sin(x) + 0.1 * np.cos(x / 2)\n",
    "\n",
    "def gaussian_kernel(x, sigma):\n",
    "    dist = np.zeros((len(x), len(x)))\n",
    "    for i in range(len(x)):\n",
    "        for j in range(len(x)):\n",
    "            dist[i, j] = x[i] - x[j]\n",
    "    return np.exp(-(dist)**2 / sigma**2)\n",
    "\n",
    "def y_ml(x, x_train, coef):\n",
    "    return sum(coef * np.exp(-(x - x_train)**2 / sigma**2))"
   ]
  },
  {
   "cell_type": "code",
   "execution_count": 52,
   "metadata": {},
   "outputs": [],
   "source": [
    "# (a)\n",
    "x_train = np.random.uniform(-10, 20, size=100)\n",
    "y_train = y(x_train) + np.random.uniform(size=100) * 0.4 - 0.2"
   ]
  },
  {
   "cell_type": "code",
   "execution_count": 53,
   "metadata": {},
   "outputs": [
    {
     "data": {
      "image/png": "[encoded data removed]",
      "text/plain": [
       "<Figure size 432x288 with 1 Axes>"
      ]
     },
     "metadata": {
      "needs_background": "light"
     },
     "output_type": "display_data"
    }
   ],
   "source": [
    "plt.plot(x_train, y_train, '.');"
   ]
  },
  {
   "cell_type": "code",
   "execution_count": 54,
   "metadata": {},
   "outputs": [],
   "source": [
    "# (b)\n",
    "sigma = 1\n",
    "Lambda = 0.001\n",
    "kernel = gaussian_kernel(x_train, sigma)\n",
    "coef = np.matmul(np.linalg.inv(kernel + Lambda * np.identity(len(kernel))), y_train)"
   ]
  },
  {
   "cell_type": "code",
   "execution_count": 55,
   "metadata": {},
   "outputs": [],
   "source": [
    "# (c)\n",
    "x_test = np.random.uniform(-10, 20, size=1000)\n",
    "y_test = np.zeros(1000)\n",
    "for i in range(len(x_test)):\n",
    "    y_test[i] = y_ml(x_test[i], x_train, coef)"
   ]
  },
  {
   "cell_type": "code",
   "execution_count": 56,
   "metadata": {},
   "outputs": [
    {
     "data": {
      "image/png": "[encoded data removed]",
      "text/plain": [
       "<Figure size 432x288 with 1 Axes>"
      ]
     },
     "metadata": {
      "needs_background": "light"
     },
     "output_type": "display_data"
    }
   ],
   "source": [
    "plt.plot(x_test, y_test, '.')\n",
    "plt.plot(x_test, y(x_test), '.');"
   ]
  },
  {
   "cell_type": "code",
   "execution_count": 57,
   "metadata": {},
   "outputs": [
    {
     "name": "stdout",
     "output_type": "stream",
     "text": [
      "RMSE = 0.01690488804358173\n"
     ]
    }
   ],
   "source": [
    "rmse = np.mean((y_test - y(x_test))**2)\n",
    "print(\"RMSE =\", rmse)"
   ]
  },
  {
   "cell_type": "code",
   "execution_count": null,
   "metadata": {},
   "outputs": [],
   "source": []
  }
 ],
 "metadata": {
  "kernelspec": {
   "display_name": "Python 3",
   "language": "python",
   "name": "python3"
  },
  "language_info": {
   "codemirror_mode": {
    "name": "ipython",
    "version": 3
   },
   "file_extension": ".py",
   "mimetype": "text/x-python",
   "name": "python",
   "nbconvert_exporter": "python",
   "pygments_lexer": "ipython3",
   "version": "3.7.3"
  }
 },
 "nbformat": 4,
 "nbformat_minor": 2
}
